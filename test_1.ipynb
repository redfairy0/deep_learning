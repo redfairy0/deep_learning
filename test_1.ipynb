{
 "cells": [
  {
   "cell_type": "code",
   "execution_count": 157,
   "metadata": {},
   "outputs": [],
   "source": [
    "from random import randint\n",
    "from math import exp\n",
    "import numpy as np\n",
    "import networkx as nx"
   ]
  },
  {
   "attachments": {},
   "cell_type": "markdown",
   "metadata": {},
   "source": [
    "# Задачи\n",
    "\n",
    "1. Переписать под 3 подаваемых значения, а не под список"
   ]
  },
  {
   "cell_type": "code",
   "execution_count": 158,
   "metadata": {},
   "outputs": [],
   "source": [
    "learning_rate = 3\n",
    "epoch = 100\n",
    "\n",
    "imput_values = np.array([1, 1, 1], dtype=float)\n",
    "out_expected_values = 0\n",
    "\n",
    "\n",
    "neuron_hidden_layer_1 = np.array([0,0,0], dtype=float)\n",
    "neuron_hidden_layer_2 = np.array([0,0], dtype=float)\n",
    "out_actual_values = np.array([0], dtype=float)\n",
    "\n",
    "# ошибка на нейроне от двух нейронов на втором слое к трем на первом слое [2][3]\n",
    "neuron_hidden_layer_error_1 = np.array([\n",
    "    [0,0,0],\n",
    "    [0,0,0]\n",
    "    ], dtype=float)\n",
    "\n",
    "# ошибка на нейроне от поckеднего нейрона к двум на втором слое [1][2]\n",
    "neuron_hidden_layer_error_2 = np.array([0,0])\n",
    "\n",
    "# веса к трем от трех [3][3]\n",
    "weights_1 = np.array([\n",
    "    [randint(0,1000)/1000, randint(0,1000)/1000, randint(0,1000)/1000],\n",
    "    [randint(0,1000)/1000, randint(0,1000)/1000, randint(0,1000)/1000],\n",
    "    [randint(0,1000)/1000, randint(0,1000)/1000, randint(0,1000)/1000]\n",
    "    ], dtype=float)\n",
    "\n",
    "# веса к двум от трех [2][3]\n",
    "weights_2 = np.array([\n",
    "    [randint(0,1000)/1000, randint(0,1000)/1000, randint(0,1000)/1000],\n",
    "    [randint(0,1000)/1000, randint(0,1000)/1000, randint(0,1000)/1000]\n",
    "    ], dtype=float)\n",
    "\n",
    "# веса к одному от двух [1][2]\n",
    "weights_3 = np.array([randint(0,1000)/1000, randint(0,1000)/1000], dtype=float)"
   ]
  },
  {
   "cell_type": "code",
   "execution_count": 159,
   "metadata": {},
   "outputs": [
    {
     "data": {
      "text/plain": [
       "array([[0.09 , 0.096, 0.349],\n",
       "       [0.837, 0.111, 0.085],\n",
       "       [0.114, 0.609, 0.439]])"
      ]
     },
     "execution_count": 159,
     "metadata": {},
     "output_type": "execute_result"
    }
   ],
   "source": [
    "weights_1"
   ]
  },
  {
   "cell_type": "code",
   "execution_count": 160,
   "metadata": {},
   "outputs": [],
   "source": [
    "def sigmoid(x):\n",
    "    return 1 / (1 + exp(-x))"
   ]
  },
  {
   "cell_type": "code",
   "execution_count": 161,
   "metadata": {},
   "outputs": [],
   "source": [
    "def activation_value(imput_values, weights, output_walues):\n",
    "\n",
    "    for i_neuron in imput_values:\n",
    "        for i in range(len(output_walues)):\n",
    "            output_walues[i] = sigmoid(np.sum(i_neuron * weights[i]))\n",
    "\n",
    "    return output_walues"
   ]
  },
  {
   "cell_type": "code",
   "execution_count": 162,
   "metadata": {},
   "outputs": [],
   "source": [
    "def running(\n",
    "    imput_values, neuron_hidden_layer_1, neuron_hidden_layer_2, out_actual_values,\n",
    "    weights_1, weights_2, weights_3):\n",
    "    \n",
    "    neuron_hidden_layer_1 = activation_value(imput_values, weights_1, neuron_hidden_layer_1)\n",
    "    neuron_hidden_layer_2 = activation_value(neuron_hidden_layer_1, weights_2, neuron_hidden_layer_2)\n",
    "    out_actual_values = activation_value(neuron_hidden_layer_2, weights_3, out_actual_values)\n",
    "\n",
    "    return neuron_hidden_layer_1, neuron_hidden_layer_2, out_actual_values"
   ]
  },
  {
   "cell_type": "code",
   "execution_count": 163,
   "metadata": {},
   "outputs": [],
   "source": [
    "neuron_hidden_layer_1, neuron_hidden_layer_2, out_actual_values = running(\n",
    "    imput_values, neuron_hidden_layer_1, neuron_hidden_layer_2, out_actual_values,\n",
    "    weights_1, weights_2, weights_3)"
   ]
  },
  {
   "cell_type": "code",
   "execution_count": 164,
   "metadata": {},
   "outputs": [
    {
     "name": "stdout",
     "output_type": "stream",
     "text": [
      "__________\n",
      "[1. 1. 1.]\n",
      "^^^^^^^^^^\n",
      "[[0.09  0.096 0.349]\n",
      " [0.837 0.111 0.085]\n",
      " [0.114 0.609 0.439]]\n",
      "\n",
      "   | \n",
      "   ▼ \n",
      "__________________________________\n",
      "[0.63064853 0.73749709 0.76169594]\n",
      "^^^^^^^^^^^^^^^^^^^^^^^^^^^^^^^^^^\n",
      "[[0.521 0.698 0.846]\n",
      " [0.578 0.653 0.176]]\n",
      "\n",
      "   | \n",
      "   ▼ \n",
      "_______________________\n",
      "[0.82819693 0.74492125]\n",
      "^^^^^^^^^^^^^^^^^^^^^^^\n",
      "[0.391 0.25 ]\n",
      "\n",
      "   | \n",
      "   ▼ \n",
      "___________\n",
      "[0.5723056]\n",
      "^^^^^^^^^^^\n"
     ]
    }
   ],
   "source": [
    "print('_'*len(str(imput_values)))\n",
    "print(imput_values)\n",
    "print('^'*len(str(imput_values)))\n",
    "\n",
    "print(weights_1)\n",
    "\n",
    "print()\n",
    "print('   | ')\n",
    "print('   ▼ ')\n",
    "\n",
    "print('_'*len(str(neuron_hidden_layer_1)))\n",
    "print(neuron_hidden_layer_1)\n",
    "print('^'*len(str(neuron_hidden_layer_1)))\n",
    "\n",
    "print(weights_2)\n",
    "\n",
    "print()\n",
    "print('   | ')\n",
    "print('   ▼ ')\n",
    "\n",
    "print('_'*len(str(neuron_hidden_layer_2)))\n",
    "print(neuron_hidden_layer_2)\n",
    "print('^'*len(str(neuron_hidden_layer_2)))\n",
    "\n",
    "print(weights_3)\n",
    "\n",
    "print()\n",
    "print('   | ')\n",
    "print('   ▼ ')\n",
    "\n",
    "print('_'*len(str(out_actual_values)))\n",
    "print(out_actual_values)\n",
    "print('^'*len(str(out_actual_values)))"
   ]
  },
  {
   "cell_type": "code",
   "execution_count": 168,
   "metadata": {},
   "outputs": [
    {
     "data": {
      "text/plain": [
       "{('In_0', 'H_1.0'): Text(0.6, 0.0, '0.09'),\n",
       " ('In_1', 'H_1.0'): Text(0.6, -0.4, '0.096'),\n",
       " ('In_2', 'H_1.0'): Text(0.6, -0.8, '0.349'),\n",
       " ('In_0', 'H_1.1'): Text(0.6, -0.6, '0.837'),\n",
       " ('In_1', 'H_1.1'): Text(0.6, -1.0, '0.111'),\n",
       " ('In_2', 'H_1.1'): Text(0.6, -1.4, '0.085'),\n",
       " ('In_0', 'H_1.2'): Text(0.6, -1.2, '0.114'),\n",
       " ('In_1', 'H_1.2'): Text(0.6, -1.6, '0.609'),\n",
       " ('In_2', 'H_1.2'): Text(0.6, -2.0, '0.439'),\n",
       " ('H_1.0', 'H_2.0'): Text(1.6, -0.3, '0.521'),\n",
       " ('H_1.1', 'H_2.0'): Text(1.6, -0.7, '0.698'),\n",
       " ('H_1.2', 'H_2.0'): Text(1.6, -1.1, '0.846'),\n",
       " ('H_1.0', 'H_2.1'): Text(1.6, -0.8999999999999999, '0.578'),\n",
       " ('H_1.1', 'H_2.1'): Text(1.6, -1.2999999999999998, '0.653'),\n",
       " ('H_1.2', 'H_2.1'): Text(1.6, -1.7, '0.176'),\n",
       " ('H_2.0', 'Out_0'): Text(2.5999999999999996, -0.8, '0.391'),\n",
       " ('H_2.1', 'Out_0'): Text(2.5999999999999996, -1.2000000000000002, '0.25')}"
      ]
     },
     "execution_count": 168,
     "metadata": {},
     "output_type": "execute_result"
    },
    {
     "data": {
      "image/png": "[encoded data removed]",
      "text/plain": [
       "<Figure size 640x480 with 1 Axes>"
      ]
     },
     "metadata": {},
     "output_type": "display_data"
    }
   ],
   "source": [
    "nodes = []\n",
    "positions = {}\n",
    "nodes_labels = {}\n",
    "for i in range(len(imput_values)):\n",
    "    node = 'In_'+str(i)\n",
    "    nodes.append(node)\n",
    "    positions[node] = [0, -i]\n",
    "    nodes_labels[node]= round(imput_values[i],3)\n",
    "for i in range(len(neuron_hidden_layer_1)):\n",
    "    node = 'H_1.'+str(i)\n",
    "    nodes.append(node)\n",
    "    positions[node] = [1, -i]\n",
    "    nodes_labels[node]= round(neuron_hidden_layer_1[i],3)\n",
    "for i in range(len(neuron_hidden_layer_2)):\n",
    "    node = 'H_2.'+str(i)\n",
    "    nodes.append(node)\n",
    "    positions[node] = [2, -i-0.5]\n",
    "    nodes_labels[node]= round(neuron_hidden_layer_2[i],3)\n",
    "for i in range(len(out_actual_values)):\n",
    "    node = 'Out_'+str(i)\n",
    "    nodes.append(node)\n",
    "    positions[node] = [3, -1]\n",
    "    nodes_labels[node]= round(out_actual_values[i],3)\n",
    "\n",
    "edges = []\n",
    "edges_labels = {}\n",
    "for i in range(len(neuron_hidden_layer_1)):\n",
    "    for j in range(len(imput_values)):\n",
    "        edge_value = ('In_'+str(j), 'H_1.'+str(i))\n",
    "        edges.append(edge_value)\n",
    "        edges_labels[edge_value] = weights_1[i][j]\n",
    "for i in range(len(neuron_hidden_layer_2)):\n",
    "    for j in range(len(neuron_hidden_layer_1)):\n",
    "        edge_value = ('H_1.'+str(j), 'H_2.'+str(i))\n",
    "        edges.append(edge_value)\n",
    "        edges_labels[edge_value] = weights_2[i][j]\n",
    "for i in range(len(out_actual_values)):\n",
    "    for j in range(len(neuron_hidden_layer_2)):\n",
    "        edge_value = ('H_2.'+str(j), 'Out_'+str(i))\n",
    "        edges.append(edge_value)\n",
    "        edges_labels[edge_value] = weights_3[j]\n",
    "\n",
    "G = nx.Graph()\n",
    "\n",
    "G.add_nodes_from(nodes)\n",
    "G.add_edges_from(edges)\n",
    "\n",
    "nx.draw(\n",
    "    G, pos=positions, edge_color='black', linewidths=1,\n",
    "    node_size=800, node_color='pink', alpha=0.9,\n",
    "    labels=nodes_labels, font_size=9, font_weight = 'bold'\n",
    ")\n",
    "\n",
    "nx.draw_networkx_edge_labels(\n",
    "    G, pos=positions,\n",
    "    edge_labels=edges_labels,\n",
    "    verticalalignment='baseline',\n",
    "    label_pos=0.4, font_size=8)"
   ]
  },
  {
   "cell_type": "code",
   "execution_count": 114,
   "metadata": {},
   "outputs": [],
   "source": [
    "def backpropagation_error(\n",
    "    out_actual_values, out_expected_values,\n",
    "    neuron_hidden_layer_2, neuron_hidden_layer_1, imput_values,\n",
    "    weights_3, weights_2, weights_1,\n",
    "    neuron_hidden_layer_error_2, neuron_hidden_layer_error_1,\n",
    "    learning_rate = 0.3\n",
    "    ):\n",
    "    '''\n",
    "    Функция обратного распределения ошибки\n",
    "    '''\n",
    "    \n",
    "    \n",
    "    \n",
    "    return weights_1, weights_2, weights_2"
   ]
  },
  {
   "cell_type": "code",
   "execution_count": 107,
   "metadata": {},
   "outputs": [],
   "source": [
    "def calculation_first_error(actual, expected):\n",
    "    return actual - expected\n",
    "\n",
    "def calculation_error(weight, delta):\n",
    "    return weight * delta"
   ]
  },
  {
   "cell_type": "code",
   "execution_count": 108,
   "metadata": {},
   "outputs": [],
   "source": [
    "def calculation_delta(value, error):\n",
    "    weights_delta = error * sigmoid(value) * (1-sigmoid(value))\n",
    "    return weights_delta"
   ]
  },
  {
   "cell_type": "code",
   "execution_count": 109,
   "metadata": {},
   "outputs": [],
   "source": [
    "def correct_weight(weight, value, delta, learning_rate):\n",
    "    return weight - value * delta * learning_rate"
   ]
  },
  {
   "cell_type": "code",
   "execution_count": 110,
   "metadata": {},
   "outputs": [],
   "source": [
    "def backpropagation_error(\n",
    "    neuron_hidden_layer_1,\n",
    "    neuron_hidden_layer_2,\n",
    "    out_actual_values,\n",
    "    out_expected_values,\n",
    "    weights_1,\n",
    "    weights_2,\n",
    "    weights_3,\n",
    "    learning_rate,\n",
    "    neuron_hidden_layer_error_1,\n",
    "    neuron_hidden_layer_error_2,\n",
    "    imput_values):\n",
    "\n",
    "    \n",
    "\n",
    "\n",
    "    for i in range(len(out_actual_values)):\n",
    "        first_error = calculation_first_error(out_actual_values[i], out_expected_values[i])\n",
    "        for j in range(len(neuron_hidden_layer_2[0])):\n",
    "            \n",
    "            delta = calculation_delta(neuron_hidden_layer_2[i][j], first_error)\n",
    "            weights_3[j] = correct_weight(weights_3[j], neuron_hidden_layer_2[i][j], delta, learning_rate)\n",
    "\n",
    "            neuron_hidden_layer_error_2[i][j] = calculation_error(weights_3[j], delta)\n",
    "    \n",
    "\n",
    "    for i in range(len(neuron_hidden_layer_2)):\n",
    "        for j in range(len(neuron_hidden_layer_1[0])):\n",
    "            for k in range(len(neuron_hidden_layer_error_2[0])):\n",
    "                for l in range(len(weights_2)):\n",
    "                    \n",
    "                    delta = calculation_delta(neuron_hidden_layer_1[i][j], neuron_hidden_layer_error_2[i][l])\n",
    "                    weights_2[k][l] = correct_weight(weights_2[k][l], neuron_hidden_layer_1[i][j], delta, learning_rate)\n",
    "\n",
    "                    neuron_hidden_layer_error_1[i][j][k] = calculation_error(weights_2[k][l], delta)\n",
    "\n",
    "\n",
    "    for i in range(len(neuron_hidden_layer_1)):\n",
    "        for j in range(len(imput_values[0])):\n",
    "            for k in range(len(neuron_hidden_layer_error_1[0][0])):\n",
    "\n",
    "                delta = calculation_delta(imput_values[i][j], neuron_hidden_layer_error_1[i][j][k])\n",
    "\n",
    "                for l in range(len(weights_1[0])):\n",
    "                \n",
    "                    weights_1[j][l] = correct_weight(weights_1[j][l], neuron_hidden_layer_1[i][j], delta, learning_rate)\n",
    "    \n",
    "    return weights_1, weights_2, weights_2"
   ]
  },
  {
   "cell_type": "code",
   "execution_count": 111,
   "metadata": {},
   "outputs": [],
   "source": [
    "def train(\n",
    "    epoch,\n",
    "    neuron_hidden_layer_1,\n",
    "    neuron_hidden_layer_2,\n",
    "    out_actual_values,\n",
    "    out_expected_values,\n",
    "    weights_1,\n",
    "    weights_2,\n",
    "    weights_3,\n",
    "    learning_rate,\n",
    "    neuron_hidden_layer_error_1,\n",
    "    neuron_hidden_layer_error_2,\n",
    "    imput_values):\n",
    "    \n",
    "    for i in range(epoch):\n",
    "        neuron_hidden_layer_1, neuron_hidden_layer_2, out_actual_values = running(imput_values, weights_1, weights_2, neuron_hidden_layer_1, neuron_hidden_layer_2, out_actual_values)\n",
    "        print(out_actual_values)\n",
    "        weights_1, weights_2, weights_2 = backpropagation_error(\n",
    "            neuron_hidden_layer_1,\n",
    "            neuron_hidden_layer_2,\n",
    "            out_actual_values,\n",
    "            out_expected_values,\n",
    "            weights_1,\n",
    "            weights_2,\n",
    "            weights_3,\n",
    "            learning_rate,\n",
    "            neuron_hidden_layer_error_1,\n",
    "            neuron_hidden_layer_error_2,\n",
    "            imput_values)"
   ]
  }
 ],
 "metadata": {
  "kernelspec": {
   "display_name": "Python 3",
   "language": "python",
   "name": "python3"
  },
  "language_info": {
   "codemirror_mode": {
    "name": "ipython",
    "version": 3
   },
   "file_extension": ".py",
   "mimetype": "text/x-python",
   "name": "python",
   "nbconvert_exporter": "python",
   "pygments_lexer": "ipython3",
   "version": "3.11.0"
  },
  "orig_nbformat": 4,
  "vscode": {
   "interpreter": {
    "hash": "a67bc2351efb885807d5af97f0dafe594ff872815f10f8f5920ea914484c279b"
   }
  }
 },
 "nbformat": 4,
 "nbformat_minor": 2
}
