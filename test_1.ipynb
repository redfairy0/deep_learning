{
 "cells": [
  {
   "cell_type": "code",
   "execution_count": 644,
   "metadata": {},
   "outputs": [],
   "source": [
    "from random import randint\n",
    "from math import exp"
   ]
  },
  {
   "cell_type": "code",
   "execution_count": 645,
   "metadata": {},
   "outputs": [],
   "source": [
    "learning_rate = 5\n",
    "epoch = 13\n",
    "\n",
    "imput_values = [[1,1],[1,0],[0,1],[0,0]]\n",
    "out_expected_values = [1, 0, 0, 0]\n",
    "\n",
    "\n",
    "neuron_hidden_layer = [[0,0,0],[0,0,0],[0,0,0],[0,0,0]]\n",
    "out_actual_values = [0,0,0,0]\n",
    "\n",
    "neuron_hidden_layer_error = [[0,0,0],[0,0,0],[0,0,0],[0,0,0]]\n",
    "weights_1 = [\n",
    "    [randint(0,1000)/1000,randint(0,1000)/1000,randint(0,1000)/1000],\n",
    "    [randint(0,1000)/1000,randint(0,1000)/1000,randint(0,1000)/1000]\n",
    "    ]\n",
    "\n",
    "weights_2 = [randint(0,1000)/1000,randint(0,1000)/1000,randint(0,1000)/1000]"
   ]
  },
  {
   "cell_type": "code",
   "execution_count": 646,
   "metadata": {},
   "outputs": [
    {
     "data": {
      "text/plain": [
       "[[0.877, 0.062, 0.597], [0.019, 0.4, 0.74]]"
      ]
     },
     "execution_count": 646,
     "metadata": {},
     "output_type": "execute_result"
    }
   ],
   "source": [
    "weights_1"
   ]
  },
  {
   "cell_type": "code",
   "execution_count": 647,
   "metadata": {},
   "outputs": [
    {
     "data": {
      "text/plain": [
       "[0.796, 0.176, 0.546]"
      ]
     },
     "execution_count": 647,
     "metadata": {},
     "output_type": "execute_result"
    }
   ],
   "source": [
    "weights_2"
   ]
  },
  {
   "cell_type": "code",
   "execution_count": 648,
   "metadata": {},
   "outputs": [],
   "source": [
    "def sigmoid(x):\n",
    "    return 1 / (1 + exp(-x))"
   ]
  },
  {
   "cell_type": "code",
   "execution_count": 649,
   "metadata": {},
   "outputs": [],
   "source": [
    "# def sigmoid(x):\n",
    "#     return 1 if x > 0 else 0"
   ]
  },
  {
   "cell_type": "code",
   "execution_count": 650,
   "metadata": {},
   "outputs": [],
   "source": [
    "def calculation_delta(actual, expected, value, error=0):\n",
    "    error = actual - expected if error == 0 else error\n",
    "    weights_delta = error * sigmoid(value) * (1-sigmoid(value))\n",
    "    return weights_delta"
   ]
  },
  {
   "cell_type": "code",
   "execution_count": 651,
   "metadata": {},
   "outputs": [],
   "source": [
    "def correct_weight(weight, value, delta, learning_rate):\n",
    "    return weight - value * delta * learning_rate"
   ]
  },
  {
   "cell_type": "code",
   "execution_count": 652,
   "metadata": {},
   "outputs": [],
   "source": [
    "def running(imput_values, weights_1, weights_2, neuron_hidden_layer,out_actual_values):\n",
    "    \n",
    "    for i in range(len(imput_values)):\n",
    "        for j in range(len(neuron_hidden_layer[0])):\n",
    "            neuron_hidden_layer[i][j] = sigmoid(imput_values[i][0] * weights_1[0][j] + imput_values[i][1] * weights_1[1][j])\n",
    "\n",
    "        out_actual_values[i] = sigmoid(neuron_hidden_layer[i][0] * weights_2[0] * neuron_hidden_layer[i][1] * weights_2[1] * neuron_hidden_layer[i][2] * weights_2[2])\n",
    "\n",
    "    return neuron_hidden_layer, out_actual_values"
   ]
  },
  {
   "cell_type": "code",
   "execution_count": 653,
   "metadata": {},
   "outputs": [],
   "source": [
    "def backpropagation_error(neuron_hidden_layer, out_actual_values, out_expected_values, weights_1, weights_2, learning_rate, neuron_hidden_layer_error, imput_values):\n",
    "    for i in range(len(out_actual_values)):\n",
    "        for j in range(len(neuron_hidden_layer[0])):\n",
    "            \n",
    "            delta = calculation_delta(out_actual_values[i],out_expected_values[i], neuron_hidden_layer[i][j])\n",
    "            weights_2[j] = correct_weight(weights_2[j], neuron_hidden_layer[i][j], delta, learning_rate)\n",
    "            neuron_hidden_layer_error[i][j] = weights_2[j] * delta\n",
    "            \n",
    "    for i in range(len(neuron_hidden_layer_error)):\n",
    "        for j in range(len(neuron_hidden_layer_error[0])):\n",
    "            weights_1[0][j] = correct_weight(weights_1[0][j], imput_values[i][0], delta, learning_rate)\n",
    "            weights_1[1][j] = correct_weight(weights_1[1][j], imput_values[i][1], delta, learning_rate)\n",
    "    return weights_1, weights_2"
   ]
  },
  {
   "cell_type": "code",
   "execution_count": 654,
   "metadata": {},
   "outputs": [],
   "source": [
    "def train(epoch, neuron_hidden_layer, out_actual_values, out_expected_values, weights_1, weights_2, learning_rate, neuron_hidden_layer_error, imput_values):\n",
    "    for i in range(epoch):\n",
    "        neuron_hidden_layer, out_actual_values = running(imput_values, weights_1, weights_2, neuron_hidden_layer,out_actual_values)\n",
    "        weights_1, weights_2 = backpropagation_error(neuron_hidden_layer, out_actual_values, out_expected_values, weights_1, weights_2, learning_rate, neuron_hidden_layer_error, imput_values)\n",
    "        print(out_actual_values)"
   ]
  },
  {
   "cell_type": "code",
   "execution_count": 655,
   "metadata": {},
   "outputs": [],
   "source": [
    "neuron_hidden_layer, out_actual_values = running(imput_values, weights_1, weights_2, neuron_hidden_layer,out_actual_values)"
   ]
  },
  {
   "cell_type": "code",
   "execution_count": 656,
   "metadata": {},
   "outputs": [
    {
     "data": {
      "text/plain": [
       "[[0.7101268083047296, 0.6134885243570565, 0.7919961596295932],\n",
       " [0.7062001618865256, 0.5154950367412013, 0.6449696539737225],\n",
       " [0.5047498571093251, 0.598687660112452, 0.676995856238523],\n",
       " [0.5, 0.5, 0.5]]"
      ]
     },
     "execution_count": 656,
     "metadata": {},
     "output_type": "execute_result"
    }
   ],
   "source": [
    "neuron_hidden_layer"
   ]
  },
  {
   "cell_type": "code",
   "execution_count": 657,
   "metadata": {},
   "outputs": [
    {
     "data": {
      "text/plain": [
       "[0.5065977917784834,\n",
       " 0.5044899168210292,\n",
       " 0.5039121189049223,\n",
       " 0.5023903697887412]"
      ]
     },
     "execution_count": 657,
     "metadata": {},
     "output_type": "execute_result"
    }
   ],
   "source": [
    "out_actual_values"
   ]
  },
  {
   "cell_type": "code",
   "execution_count": 658,
   "metadata": {},
   "outputs": [
    {
     "name": "stdout",
     "output_type": "stream",
     "text": [
      "[0.5065977917784834, 0.5044899168210292, 0.5039121189049223, 0.5023903697887412]\n",
      "[0.5000104485829595, 0.5000606213088333, 0.5000474721189087, 0.5002023407505124]\n",
      "[0.499999377509227, 0.4998447992731004, 0.49988757971080666, 0.4922317501532008]\n",
      "[0.49999999664629646, 0.499965678151097, 0.4999760036242642, 0.45946216062171497]\n",
      "[0.4999999999884701, 0.49999669254748136, 0.4999977160443178, 0.4106013361661234]\n",
      "[0.49999999999994116, 0.4999996848707351, 0.4999997832862415, 0.3537343504831716]\n",
      "[0.49999999999999944, 0.49999996213988607, 0.4999999740016614, 0.29594112502346853]\n",
      "[0.5, 0.4999999938259459, 0.499999995762716, 0.24350203820313004]\n",
      "[0.5, 0.4999999986392616, 0.49999999906634884, 0.19973323409427782]\n",
      "[0.5, 0.4999999996107003, 0.49999999973291964, 0.16494050809438532]\n",
      "[0.5, 0.4999999998623774, 0.49999999990558974, 0.13784472797179237]\n",
      "[0.5, 0.499999999942515, 0.4999999999605662, 0.11679297573808135]\n",
      "[0.5, 0.4999999999726352, 0.4999999999812287, 0.10031400453726957]\n"
     ]
    }
   ],
   "source": [
    "train(epoch, neuron_hidden_layer, out_actual_values, out_expected_values, weights_1, weights_2, learning_rate, neuron_hidden_layer_error, imput_values)"
   ]
  }
 ],
 "metadata": {
  "kernelspec": {
   "display_name": "Python 3",
   "language": "python",
   "name": "python3"
  },
  "language_info": {
   "codemirror_mode": {
    "name": "ipython",
    "version": 3
   },
   "file_extension": ".py",
   "mimetype": "text/x-python",
   "name": "python",
   "nbconvert_exporter": "python",
   "pygments_lexer": "ipython3",
   "version": "3.11.0"
  },
  "orig_nbformat": 4,
  "vscode": {
   "interpreter": {
    "hash": "a67bc2351efb885807d5af97f0dafe594ff872815f10f8f5920ea914484c279b"
   }
  }
 },
 "nbformat": 4,
 "nbformat_minor": 2
}
